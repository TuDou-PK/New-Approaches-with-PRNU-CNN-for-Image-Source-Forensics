{
  "nbformat": 4,
  "nbformat_minor": 0,
  "metadata": {
    "colab": {
      "provenance": [],
      "collapsed_sections": []
    },
    "kernelspec": {
      "name": "python3",
      "display_name": "Python 3"
    },
    "language_info": {
      "name": "python"
    },
    "accelerator": "GPU"
  },
  "cells": [
    {
      "cell_type": "code",
      "source": [
        "!pip install torchsampler"
      ],
      "metadata": {
        "id": "rlqGyH7JY0Yc"
      },
      "execution_count": null,
      "outputs": []
    },
    {
      "cell_type": "code",
      "source": [
        "from google.colab import drive\n",
        "drive.mount('/content/drive')"
      ],
      "metadata": {
        "id": "Mf262aw1Y-yf"
      },
      "execution_count": null,
      "outputs": []
    },
    {
      "cell_type": "code",
      "source": [
        "import torch\n",
        "from torch.utils.data import Dataset\n",
        "from torch.utils.data import DataLoader\n",
        "from torch import optim\n",
        "import torchvision.models as models\n",
        "import torch.nn as nn\n",
        "import torch.nn.functional as F\n",
        "from torchsampler import ImbalancedDatasetSampler\n",
        "from collections import OrderedDict\n",
        "\n",
        "import numpy as np\n",
        "import os\n",
        "from tqdm import tqdm\n",
        "import gc\n",
        "# plot\n",
        "import matplotlib.pyplot as plt\n",
        "import cv2"
      ],
      "metadata": {
        "id": "VZHl6TLEZKjF"
      },
      "execution_count": 43,
      "outputs": []
    },
    {
      "cell_type": "code",
      "source": [
        "device = torch.device(\"cuda:0\" if torch.cuda.is_available() else \"cpu\")\n",
        "device"
      ],
      "metadata": {
        "colab": {
          "base_uri": "https://localhost:8080/"
        },
        "id": "OdFMIzZelTHr",
        "outputId": "5d76de0c-9462-4054-e9bb-ee96044d0f37"
      },
      "execution_count": 44,
      "outputs": [
        {
          "output_type": "execute_result",
          "data": {
            "text/plain": [
              "device(type='cuda', index=0)"
            ]
          },
          "metadata": {},
          "execution_count": 44
        }
      ]
    },
    {
      "cell_type": "code",
      "source": [
        "class dataset(Dataset):\n",
        "    def __init__(self, root, traintest) -> None:\n",
        "      super().__init__()\n",
        "      self.root = root\n",
        "      self.training_set = []\n",
        "      if traintest == \"train\":\n",
        "        for i, camera in enumerate(os.listdir(root)):\n",
        "          images = np.load(root + camera)\n",
        "          images_len = len(images)\n",
        "          for image in images[:int(images_len*0.7)]:\n",
        "            information = {\n",
        "              'image':torch.tensor(image),\n",
        "              'target':torch.tensor(int(camera.split('.')[0].split('_')[2]))\n",
        "              }\n",
        "            self.training_set.append(information)\n",
        "            \n",
        "      elif traintest == \"test\":\n",
        "        for i, camera in enumerate(os.listdir(root)):\n",
        "          images = np.load(root + camera)\n",
        "          images_len = len(images)\n",
        "          for image in images[int(images_len*0.7):]:\n",
        "            information = {\n",
        "              'image':torch.tensor(image),\n",
        "              'target':torch.tensor(int(camera.split('.')[0].split('_')[2]))\n",
        "              }\n",
        "            self.training_set.append(information)\n",
        "    def __getitem__(self, index):\n",
        "      return self.training_set[index]\n",
        "    \n",
        "    def __len__(self):\n",
        "      return len(self.training_set)\n",
        "    \n",
        "    def get_labels(self):\n",
        "      return [int(item['target']) for item in self.training_set]\n"
      ],
      "metadata": {
        "id": "6TQcVdeiZHMP"
      },
      "execution_count": 45,
      "outputs": []
    },
    {
      "cell_type": "code",
      "source": [
        "root = '/content/drive/MyDrive/data/'\n",
        "training_set = dataset(root, 'train')\n",
        "train_dataloader = DataLoader(training_set, batch_size=4)#, sampler=ImbalancedDatasetSampler(training_set))\n",
        "test_set = dataset(root, 'test')\n",
        "test_dataloader = DataLoader(test_set, batch_size=4)"
      ],
      "metadata": {
        "id": "HQ9JYcHjZSf9"
      },
      "execution_count": 46,
      "outputs": []
    },
    {
      "cell_type": "code",
      "source": [
        "prnudatas = dict(zip(range(35), [None for _ in range(35)]))\n",
        "prnuroot = '/content/drive/MyDrive/FlatPRNU/'\n",
        "for i, prnu_name in enumerate(os.listdir(prnuroot)):\n",
        "  prnu = np.load(prnuroot + prnu_name)\n",
        "  prnudatas[i] = prnu"
      ],
      "metadata": {
        "id": "8x6wWYs1l21J"
      },
      "execution_count": 47,
      "outputs": []
    },
    {
      "cell_type": "code",
      "source": [
        "class csi_model(nn.Module):\n",
        "    def __init__(self, in_channels, out_channels):\n",
        "        super(csi_model, self).__init__()\n",
        "        \"\"\"\n",
        "        N = (w − k + 2p )/s + 1\n",
        "        \"\"\"\n",
        "        self.conv1 = torch.nn.Conv2d(in_channels, 128, kernel_size=(3, 3), padding = 1)\n",
        "        self.bn1 = nn.BatchNorm2d(128)\n",
        "        self.relu1 = torch.nn.ReLU()\n",
        "\n",
        "        self.conv2 = torch.nn.Conv2d(128, 32 , kernel_size=(1, 1))\n",
        "        self.bn2 = nn.BatchNorm2d(32)\n",
        "        self.relu2 = torch.nn.ReLU()\n",
        "\n",
        "        self.conv3 = torch.nn.Conv2d(32, 32, kernel_size=(1, 1))\n",
        "        self.bn3 = nn.BatchNorm2d(32)\n",
        "        self.relu3 = torch.nn.ReLU()\n",
        "\n",
        "        self.conv4 = torch.nn.Conv2d(32, 128, kernel_size=(1, 1))\n",
        "        self.bn4 = nn.BatchNorm2d(128)\n",
        "\n",
        "        self.conv5 = torch.nn.Conv2d(128, 3, kernel_size=(3, 3), padding = 1)\n",
        "        self.relu5 = torch.nn.ReLU(3)\n",
        "\n",
        "        self.conv6 = torch.nn.Conv2d(3, 128 , kernel_size=(3, 3), padding = 1)\n",
        "        self.bn6 = nn.BatchNorm2d(128)\n",
        "        self.relu6 = torch.nn.ReLU()\n",
        "\n",
        "        self.conv7 = torch.nn.Conv2d(128, 32 , kernel_size=(1, 1))\n",
        "        self.bn7 = nn.BatchNorm2d(32)\n",
        "        self.relu7 = torch.nn.ReLU()\n",
        "\n",
        "        self.conv8 = torch.nn.Conv2d(32, 32 , kernel_size=(3, 3), padding = 1)\n",
        "        self.bn8 = nn.BatchNorm2d(32)\n",
        "        self.relu8 = torch.nn.ReLU()\n",
        "\n",
        "        self.conv9 = torch.nn.Conv2d(32, 128 , kernel_size=(1, 1))\n",
        "\n",
        "        self.conv10 = torch.nn.Conv2d(128, out_channels, kernel_size=(1, 1))\n",
        "        self.bn10 = nn.BatchNorm2d(out_channels)\n",
        "        \n",
        "\n",
        "    def forward(self, x):\n",
        "        # 0.\n",
        "        res_x = x    # [4, 3, 256, 256]\n",
        "\n",
        "        # 1.\n",
        "        x = self.conv1(x) # [4, 128, 254, 254]\n",
        "        conv1_x = x\n",
        "        x = self.bn1(x)\n",
        "        x = self.relu1(x)\n",
        "\n",
        "        # 2.\n",
        "        x = self.conv2(x) # [4, 32, 254, 254]\n",
        "        x = self.bn2(x)\n",
        "        x = self.relu2(x)\n",
        "\n",
        "        #3.\n",
        "        x = self.conv3(x) # [4, 32, 254, 254]\n",
        "        x = self.bn3(x)\n",
        "        x = self.relu3(x)\n",
        "        \n",
        "        #4.\n",
        "        x = self.conv4(x) # [4, 128, 254, 254]\n",
        "        x = x + conv1_x\n",
        "        x = self.bn4(x)\n",
        "        \n",
        "        #5.\n",
        "        x = self.conv5(x) # [4, ]\n",
        "        x = x - res_x\n",
        "        x = self.relu5(x)\n",
        "\n",
        "        #6.\n",
        "        x = self.conv6(x)\n",
        "        conv6_x = x\n",
        "        x = self.bn6(x)\n",
        "        x = self.relu6(x)\n",
        "\n",
        "        #7.\n",
        "        x = self.conv7(x)\n",
        "        x = self.bn7(x)\n",
        "        x = self.relu7(x)\n",
        "\n",
        "        #8.\n",
        "        x = self.conv8(x)\n",
        "        x = self.bn8(x)\n",
        "        x = self.relu8(x)\n",
        "\n",
        "        #9.\n",
        "        x = self.conv9(x)\n",
        "        x = x + conv6_x\n",
        "\n",
        "        #10.\n",
        "        x = self.conv10(x)\n",
        "        x = self.bn10(x)\n",
        "\n",
        "        return x"
      ],
      "metadata": {
        "id": "CBjldPVCgoIb"
      },
      "execution_count": 48,
      "outputs": []
    },
    {
      "cell_type": "code",
      "source": [
        "model = csi_model(3, 3).to(device)"
      ],
      "metadata": {
        "id": "q8jGGFHDlHt_"
      },
      "execution_count": 50,
      "outputs": []
    },
    {
      "cell_type": "code",
      "source": [
        "mse_loss = nn.MSELoss()"
      ],
      "metadata": {
        "id": "8boQCHjflUo2"
      },
      "execution_count": 51,
      "outputs": []
    },
    {
      "cell_type": "code",
      "source": [
        "learning_rate = 0.001\n",
        "optimizer = torch.optim.SGD(model.parameters(), lr=learning_rate)  \n",
        "scheduler = torch.optim.lr_scheduler.StepLR(optimizer, step_size=3, gamma=0.1)"
      ],
      "metadata": {
        "id": "yTma48gLlsUi"
      },
      "execution_count": 52,
      "outputs": []
    },
    {
      "cell_type": "code",
      "source": [
        "def train(model, train_dataloader, optimizer, loss_fn, epoch):\n",
        "    model.train()\n",
        "    loss_total = 0\n",
        "    count = 0\n",
        "    \n",
        "    for i, data in enumerate(train_dataloader):\n",
        "      # traing data\n",
        "      image = data['image'].type(torch.FloatTensor).to(device)\n",
        "      image = image.permute(0, 3, 2, 1)\n",
        "      i_min, i_max = image.min(), image.max()\n",
        "      image = (image - image.min())/(image.max() - image.min())\n",
        "\n",
        "      ## Target\n",
        "      target = data['target']\n",
        "      truth = torch.tensor([prnudatas[int(item)] for item in target])\n",
        "      truth = truth.repeat(1, 3, 1, 1)\n",
        "      truth = (truth - truth.min())/(truth.max() - truth.min())\n",
        "      truth = truth.to(device)\n",
        "      \n",
        "      \n",
        "\n",
        "      ##\n",
        "      optimizer.zero_grad()\n",
        "      output = model(image)\n",
        "      #print(output)\n",
        "      #print('output shape :',output.shape)\n",
        "      # print('truth shape :',truth.shape)\n",
        "      loss = loss_fn.forward(output, truth)\n",
        "      # print(\"loss: \", loss.shape)\n",
        "      #print(loss)\n",
        "      loss.backward()\n",
        "\n",
        "      #torch.nn.utils.clip_grad_norm_(model.parameters(), 0.01) \n",
        "      optimizer.step()\n",
        "      loss_total += loss\n",
        "      count += 1\n",
        "      #break\n",
        "\n",
        "\n",
        "    print(f\"Epoch {epoch:3d}  | loss: {loss_total/count:8.3f}\")\n",
        "    return loss_total/count"
      ],
      "metadata": {
        "id": "a-0JyvGuluR_"
      },
      "execution_count": 53,
      "outputs": []
    },
    {
      "cell_type": "code",
      "source": [
        "EPOCH = 10000\n",
        "loss = []\n",
        "count = 1\n",
        "j = 1\n",
        "for epoch in tqdm(range(EPOCH)):\n",
        "  loss.append(train(model, train_dataloader, optimizer, mse_loss, epoch)) \n",
        "  count += 1\n",
        "  #scheduler.step()"
      ],
      "metadata": {
        "id": "VBvimOaBmBJy"
      },
      "execution_count": null,
      "outputs": []
    },
    {
      "cell_type": "code",
      "source": [
        "import matplotlib.pyplot as plt\n",
        "val_losses = []\n",
        "train_losses = []\n",
        "plt.figure(figsize=(10,5))\n",
        "plt.title(\"Training Loss\")\n",
        "plt.plot([item.cpu().detach().numpy() for item in loss], label=\"train\")\n",
        "plt.xlabel(\"iterations\")\n",
        "plt.ylabel(\"Loss\")\n",
        "plt.legend()\n",
        "plt.show()"
      ],
      "metadata": {
        "colab": {
          "base_uri": "https://localhost:8080/",
          "height": 350
        },
        "id": "cgmzK0-Vhwq0",
        "outputId": "1290b1a8-d9ae-44c1-96ab-51c93d31d1f3"
      },
      "execution_count": 56,
      "outputs": [
        {
          "output_type": "display_data",
          "data": {
            "text/plain": [
              "<Figure size 720x360 with 1 Axes>"
            ],
            "image/png": "[encoded data removed]"
          },
          "metadata": {
            "needs_background": "light"
          }
        }
      ]
    },
    {
      "cell_type": "code",
      "source": [
        "def test(model, test_dataloader):\n",
        "  model.eval()\n",
        "  loss_total = 0\n",
        "  count = 0\n",
        "  \n",
        "  for i, data in enumerate(test_dataloader):\n",
        "    image = data['image'].type(torch.FloatTensor).to(device)\n",
        "    image = image.permute(0, 3, 2, 1)\n",
        "    i_min, i_max = image.min(), image.max()\n",
        "    image = (image - image.min())/(image.max() - image.min())\n",
        "    target = data['target']\n",
        "    truth = torch.tensor([prnudatas[int(item)] for item in target])\n",
        "    truth = truth.to(device)\n",
        "    truth = truth.repeat(1, 3, 1, 1)\n",
        "    t_min, t_max = truth.min(), truth.max()\n",
        "    truth = (truth - t_min)/(t_max - t_min)\n",
        "\n",
        "    output = model(image)\n",
        "    loss = mse_loss.forward(output, truth)\n",
        "    loss_total += loss.item()\n",
        "    count += 1\n",
        "\n",
        "\n",
        "  print(f\"loss: {loss_total/count:8.3f}\")\n",
        "  return loss_total/count\n",
        "        "
      ],
      "metadata": {
        "id": "kMTjbjPHahcx"
      },
      "execution_count": 57,
      "outputs": []
    },
    {
      "cell_type": "code",
      "source": [
        "test(model, test_dataloader)"
      ],
      "metadata": {
        "id": "crzGjEvemccZ"
      },
      "execution_count": null,
      "outputs": []
    },
    {
      "cell_type": "code",
      "source": [
        "model.eval()\n",
        "outputs = {0:[], 1:[], 2:[], 3:[], 4:[], 6:[], 11:[], 16:[], 20:[], 23:[]}\n",
        "for i, data in enumerate(test_dataloader):\n",
        "  image = data['image'].type(torch.FloatTensor).to(device)\n",
        "  image = image.permute(0, 3, 2, 1)\n",
        "  image = torch.abs(image)\n",
        "  i_min, i_max = image.min(), image.max()\n",
        "  image = (image - image.min())/(image.max() - image.min())\n",
        "  target = data['target']\n",
        "\n",
        "  truth = torch.tensor([prnudatas[int(item)] for item in target])\n",
        "  t_min, t_max = truth.min(), truth.max()\n",
        "\n",
        "  output = model(image)\n",
        "  output = output * (t_max - t_min) + t_min\n",
        "  for j, item in enumerate(target):\n",
        "    outputs[int(item)].append(output[j].cpu().detach().numpy())"
      ],
      "metadata": {
        "id": "8iMIIY3eyO2-"
      },
      "execution_count": 59,
      "outputs": []
    },
    {
      "cell_type": "code",
      "source": [
        "for i in outputs.keys():\n",
        "  np.save('/content/drive/MyDrive/new_prnu_2/res_noise_'+str(i)+'.npy', np.array(outputs[i]))"
      ],
      "metadata": {
        "id": "nFpSDNuRya1y"
      },
      "execution_count": 81,
      "outputs": []
    }
  ]
}