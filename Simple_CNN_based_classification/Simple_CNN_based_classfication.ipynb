{
  "cells": [
    {
      "cell_type": "markdown",
      "metadata": {
        "id": "wB1IUqbUA2JR"
      },
      "source": [
        "### Import"
      ]
    },
    {
      "cell_type": "code",
      "execution_count": 1,
      "metadata": {
        "id": "vh586NFpiKmw",
        "colab": {
          "base_uri": "https://localhost:8080/"
        },
        "outputId": "4d36b9af-2cbd-4060-bf6d-5e28707ec751"
      },
      "outputs": [
        {
          "output_type": "stream",
          "name": "stdout",
          "text": [
            "Looking in indexes: https://pypi.org/simple, https://us-python.pkg.dev/colab-wheels/public/simple/\n",
            "Requirement already satisfied: torchsampler in /usr/local/lib/python3.7/dist-packages (0.1.2)\n",
            "Requirement already satisfied: torchvision>=0.5 in /usr/local/lib/python3.7/dist-packages (from torchsampler) (0.13.1+cu113)\n",
            "Requirement already satisfied: torch>=1.3 in /usr/local/lib/python3.7/dist-packages (from torchsampler) (1.12.1+cu113)\n",
            "Requirement already satisfied: pandas in /usr/local/lib/python3.7/dist-packages (from torchsampler) (1.3.5)\n",
            "Requirement already satisfied: importlib-metadata in /usr/local/lib/python3.7/dist-packages (from torchsampler) (4.12.0)\n",
            "Requirement already satisfied: typing-extensions in /usr/local/lib/python3.7/dist-packages (from torch>=1.3->torchsampler) (4.1.1)\n",
            "Requirement already satisfied: requests in /usr/local/lib/python3.7/dist-packages (from torchvision>=0.5->torchsampler) (2.23.0)\n",
            "Requirement already satisfied: pillow!=8.3.*,>=5.3.0 in /usr/local/lib/python3.7/dist-packages (from torchvision>=0.5->torchsampler) (7.1.2)\n",
            "Requirement already satisfied: numpy in /usr/local/lib/python3.7/dist-packages (from torchvision>=0.5->torchsampler) (1.21.6)\n",
            "Requirement already satisfied: zipp>=0.5 in /usr/local/lib/python3.7/dist-packages (from importlib-metadata->torchsampler) (3.8.1)\n",
            "Requirement already satisfied: pytz>=2017.3 in /usr/local/lib/python3.7/dist-packages (from pandas->torchsampler) (2022.2.1)\n",
            "Requirement already satisfied: python-dateutil>=2.7.3 in /usr/local/lib/python3.7/dist-packages (from pandas->torchsampler) (2.8.2)\n",
            "Requirement already satisfied: six>=1.5 in /usr/local/lib/python3.7/dist-packages (from python-dateutil>=2.7.3->pandas->torchsampler) (1.15.0)\n",
            "Requirement already satisfied: idna<3,>=2.5 in /usr/local/lib/python3.7/dist-packages (from requests->torchvision>=0.5->torchsampler) (2.10)\n",
            "Requirement already satisfied: chardet<4,>=3.0.2 in /usr/local/lib/python3.7/dist-packages (from requests->torchvision>=0.5->torchsampler) (3.0.4)\n",
            "Requirement already satisfied: certifi>=2017.4.17 in /usr/local/lib/python3.7/dist-packages (from requests->torchvision>=0.5->torchsampler) (2022.6.15)\n",
            "Requirement already satisfied: urllib3!=1.25.0,!=1.25.1,<1.26,>=1.21.1 in /usr/local/lib/python3.7/dist-packages (from requests->torchvision>=0.5->torchsampler) (1.24.3)\n"
          ]
        }
      ],
      "source": [
        "!pip install torchsampler"
      ]
    },
    {
      "cell_type": "code",
      "execution_count": 2,
      "metadata": {
        "colab": {
          "base_uri": "https://localhost:8080/"
        },
        "id": "wjwa4wuqcBhO",
        "outputId": "b9b5d4e4-c162-47b4-c493-cb09568b5af1"
      },
      "outputs": [
        {
          "output_type": "stream",
          "name": "stdout",
          "text": [
            "Drive already mounted at /content/drive; to attempt to forcibly remount, call drive.mount(\"/content/drive\", force_remount=True).\n"
          ]
        }
      ],
      "source": [
        "from google.colab import drive\n",
        "drive.mount('/content/drive')"
      ]
    },
    {
      "cell_type": "code",
      "execution_count": 3,
      "metadata": {
        "id": "8HMi19qo9axY"
      },
      "outputs": [],
      "source": [
        "import numpy as np\n",
        "import os\n",
        "from tqdm import tqdm\n",
        "import gc\n",
        "# plot\n",
        "import matplotlib.pyplot as plt"
      ]
    },
    {
      "cell_type": "code",
      "execution_count": 4,
      "metadata": {
        "id": "NMDmK-RhJrp9"
      },
      "outputs": [],
      "source": [
        "import torch\n",
        "from torch.utils.data import Dataset\n",
        "from torch.utils.data import DataLoader\n",
        "from torch import optim\n",
        "import torchvision.models as models\n",
        "import torch.nn as nn\n",
        "import torch.nn.functional as F\n",
        "from torchsampler import ImbalancedDatasetSampler\n",
        "from collections import OrderedDict"
      ]
    },
    {
      "cell_type": "code",
      "execution_count": 5,
      "metadata": {
        "id": "hR1qZE3gZE4i"
      },
      "outputs": [],
      "source": [
        "device = torch.device(\"cuda:0\" if torch.cuda.is_available() else \"cpu\")"
      ]
    },
    {
      "cell_type": "code",
      "execution_count": 6,
      "metadata": {
        "colab": {
          "base_uri": "https://localhost:8080/"
        },
        "id": "7mQAT-ExZGF8",
        "outputId": "f722408a-cd54-4827-c180-8086dce2700f"
      },
      "outputs": [
        {
          "output_type": "stream",
          "name": "stdout",
          "text": [
            "device: cuda:0\n"
          ]
        }
      ],
      "source": [
        "device = torch.device(\"cuda:0\" if torch.cuda.is_available() else \"cpu\")\n",
        "print(\"device:\", device)"
      ]
    },
    {
      "cell_type": "markdown",
      "metadata": {
        "id": "vg_8jaCEAwpW"
      },
      "source": [
        "### Dataset"
      ]
    },
    {
      "cell_type": "code",
      "execution_count": 7,
      "metadata": {
        "id": "ayHvSllEJxvw"
      },
      "outputs": [],
      "source": [
        "class dataset(Dataset):\n",
        "    def __init__(self, root, traintest) -> None:\n",
        "      super().__init__()\n",
        "      self.root = root\n",
        "      self.training_set = []\n",
        "      if traintest == \"train\":\n",
        "        for i, camera in enumerate(os.listdir(root)):\n",
        "          images = np.load(root + camera)\n",
        "          images_len = len(images)\n",
        "          for image in images[:int(images_len*0.6)]:\n",
        "            information = {\n",
        "              'image':torch.tensor(image),\n",
        "              'target':torch.tensor(i)#int(camera.split('.')[0].split('_')[2]))\n",
        "              }\n",
        "            self.training_set.append(information)\n",
        "      elif traintest == \"val\":\n",
        "          for i, camera in enumerate(os.listdir(root)):\n",
        "            images = np.load(root + camera)\n",
        "            images_len = len(images)\n",
        "            for image in images[int(images_len*0.6):int(images_len*0.8)]:\n",
        "              information = {\n",
        "                'image':torch.tensor(image),\n",
        "                'target':torch.tensor(i)#int(camera.split('.')[0].split('_')[2]))\n",
        "                }\n",
        "              self.training_set.append(information) \n",
        "              \n",
        "      elif traintest == \"test\":\n",
        "        for i, camera in enumerate(os.listdir(root)):\n",
        "          images = np.load(root + camera)\n",
        "          images_len = len(images)\n",
        "          for image in images[int(images_len*0.8):]:\n",
        "            information = {\n",
        "              'image':torch.tensor(image),\n",
        "              'target':torch.tensor(i)#int(camera.split('.')[0].split('_')[2]))\n",
        "              }\n",
        "            self.training_set.append(information)\n",
        "    def __getitem__(self, index):\n",
        "      return self.training_set[index]\n",
        "    \n",
        "    def __len__(self):\n",
        "      return len(self.training_set)\n",
        "    \n",
        "    def get_labels(self):\n",
        "      return [int(item['target']) for item in self.training_set]"
      ]
    },
    {
      "cell_type": "code",
      "execution_count": 8,
      "metadata": {
        "id": "jRmozZ-TmdaM"
      },
      "outputs": [],
      "source": [
        "root = '/content/drive/MyDrive/data/'\n",
        "training_set = dataset(root, 'train')\n",
        "train_dataloader = DataLoader(training_set, batch_size=4, sampler=ImbalancedDatasetSampler(training_set))\n",
        "val_set = dataset(root, 'val')\n",
        "val_dataloader = DataLoader(val_set, batch_size=4, sampler=ImbalancedDatasetSampler(val_set))\n",
        "test_set = dataset(root, 'test')\n",
        "test_dataloader = DataLoader(test_set, batch_size=4, sampler=ImbalancedDatasetSampler(test_set))"
      ]
    },
    {
      "cell_type": "code",
      "source": [
        "len(train_dataloader)"
      ],
      "metadata": {
        "colab": {
          "base_uri": "https://localhost:8080/"
        },
        "id": "vhwnOMEbQ9IK",
        "outputId": "a796c6c2-3715-4eb3-adb5-7c190374cc1f"
      },
      "execution_count": 9,
      "outputs": [
        {
          "output_type": "execute_result",
          "data": {
            "text/plain": [
              "361"
            ]
          },
          "metadata": {},
          "execution_count": 9
        }
      ]
    },
    {
      "cell_type": "markdown",
      "metadata": {
        "id": "uIO72GtzSeNj"
      },
      "source": [
        "### Classfication"
      ]
    },
    {
      "cell_type": "code",
      "source": [
        "class classifier_model(nn.Module):\n",
        "    def __init__(self):\n",
        "        super(classifier_model, self).__init__()\n",
        "        self.conv1 =  torch.nn.Conv2d(3, 32, kernel_size=(3, 3), stride=(2, 2), padding=(3, 3), bias=False)\n",
        "        self.conv2 =  torch.nn.Conv2d(32, 64, kernel_size=(3, 3), stride=(2, 2), padding=(3, 3), bias=False)\n",
        "        self.pool1 =  torch.nn.MaxPool2d(2, 2)\n",
        "        self.relu = torch.nn.ReLU()\n",
        "        self.dropout = torch.nn.Dropout(0.7)\n",
        "        \n",
        "        self.conv3 =  torch.nn.Conv2d(64, 128, kernel_size=(3, 3), stride=(2, 2), padding=(3, 3), bias=False)\n",
        "        self.conv4 =  torch.nn.Conv2d(128, 64, kernel_size=(3, 3), stride=(2, 2), padding=(3, 3), bias=False)\n",
        "        self.fc1 = torch.nn.Linear(in_features=2304, out_features=256, bias=True)\n",
        "        self.fc2 = torch.nn.Linear(in_features=256, out_features=10, bias=True)\n",
        "        #self.softmax = torch.nn.Softmax()\n",
        "\n",
        "    def forward(self, x):\n",
        "        x = self.conv1(x)\n",
        "        x = self.relu(x)\n",
        "        x = self.conv2(x)\n",
        "        x = self.relu(x)\n",
        "        x = self.pool1(x)\n",
        "        x = self.dropout(x)\n",
        "        x = self.conv3(x)\n",
        "        x = self.relu(x)\n",
        "        x = self.conv4(x)\n",
        "        x = self.relu(x)\n",
        "        x = self.pool1(x)\n",
        "        x = self.dropout(x)\n",
        "        x = torch.flatten(x, 1)\n",
        "        x = self.fc1(x)\n",
        "        x = self.relu(x)\n",
        "        x = self.dropout(x)\n",
        "        x = self.fc2(x)\n",
        "        return x"
      ],
      "metadata": {
        "id": "u8DJTeZ4s76I"
      },
      "execution_count": 10,
      "outputs": []
    },
    {
      "cell_type": "code",
      "execution_count": 11,
      "metadata": {
        "id": "nsSUfd4qTykO"
      },
      "outputs": [],
      "source": [
        "classifier = classifier_model().to(device)"
      ]
    },
    {
      "cell_type": "code",
      "execution_count": 12,
      "metadata": {
        "id": "jMLsU5_Fr8Ea"
      },
      "outputs": [],
      "source": [
        "optimizer = optim.SGD(classifier.parameters(),lr=0.001, momentum=0.5)\n",
        "loss_fn = nn.CrossEntropyLoss()\n",
        "learning_rate = 0.001"
      ]
    },
    {
      "cell_type": "code",
      "execution_count": 13,
      "metadata": {
        "id": "Vc5KUyaBrzWg"
      },
      "outputs": [],
      "source": [
        "def train(model, train_dataloader, optimizer, loss_fn, epoch):\n",
        "    model.train()\n",
        "    loss_total = 0\n",
        "    count = 0\n",
        "    for i, data in enumerate(train_dataloader):\n",
        "      image = data['image'].type(torch.FloatTensor)\n",
        "      #print(image)\n",
        "      image = image.permute(0, 3, 2, 1)\n",
        "      image = image.to(device)\n",
        "      target = data['target'].to(device)\n",
        "\n",
        "      optimizer.zero_grad()\n",
        "      output = model(image)\n",
        "      # pred = nn.Softmax(dim=1)(output)\n",
        "      # print(pred.argmax(1))\n",
        "      loss = loss_fn(output, target)\n",
        "      loss.backward()\n",
        "\n",
        "      optimizer.step()\n",
        "      loss_total += loss.item()\n",
        "      count += 1\n",
        "        \n",
        "\n",
        "    print(f\"Train: Epoch {epoch:3d}  | loss:   {loss_total/count:8.3f}\")\n",
        "    return loss_total/count"
      ]
    },
    {
      "cell_type": "code",
      "execution_count": 14,
      "metadata": {
        "id": "EHi4SgC3ai91"
      },
      "outputs": [],
      "source": [
        "def val(model, train_dataloader, optimizer, loss_fn, epoch):\n",
        "    model.eval()\n",
        "    loss_total = 0\n",
        "    count = 0\n",
        "    for i, data in enumerate(train_dataloader):\n",
        "      image = data['image'].type(torch.FloatTensor)\n",
        "      #print(image)\n",
        "      image = image.permute(0, 3, 2, 1)\n",
        "      image = image.to(device)\n",
        "      target = data['target'].to(device)\n",
        "\n",
        "      output = model(image)\n",
        "      pred = nn.Softmax(dim=1)(output)\n",
        "      # print('pred:', pred.argmax(1))\n",
        "      # print('target', target)\n",
        "      loss = loss_fn(output, target)\n",
        "      loss_total += loss.item()\n",
        "      count += 1\n",
        "        \n",
        "\n",
        "    print(f\"Val:    Epoch {epoch:3d}  | loss: {loss_total/count:8.3f}\")\n",
        "    return loss_total/count"
      ]
    },
    {
      "cell_type": "code",
      "execution_count": 15,
      "metadata": {
        "id": "G0mUfQWSqKVN"
      },
      "outputs": [],
      "source": [
        "learning_rate = 0.001"
      ]
    },
    {
      "cell_type": "code",
      "execution_count": null,
      "metadata": {
        "id": "bABV1O2Or3y2"
      },
      "outputs": [],
      "source": [
        "EPOCH = 8000\n",
        "loss = []\n",
        "for epoch in tqdm(range(EPOCH)):\n",
        "  ls = train(classifier, train_dataloader, optimizer, loss_fn, epoch)\n",
        "  loss.append(ls)\n",
        "  if epoch%10 == 0:\n",
        "    lv = val(classifier, val_dataloader, optimizer, loss_fn, epoch)\n",
        "    if lv < 0.1:\n",
        "      break"
      ]
    },
    {
      "cell_type": "code",
      "execution_count": 17,
      "metadata": {
        "colab": {
          "base_uri": "https://localhost:8080/",
          "height": 350
        },
        "id": "sgxHqOaVhXhi",
        "outputId": "80ef6edf-e7b3-4fc2-a979-cff074e5faec"
      },
      "outputs": [
        {
          "output_type": "display_data",
          "data": {
            "text/plain": [
              "<Figure size 720x360 with 1 Axes>"
            ],
            "image/png": "[encoded data removed]"
          },
          "metadata": {
            "needs_background": "light"
          }
        }
      ],
      "source": [
        "import matplotlib.pyplot as plt\n",
        "val_losses = []\n",
        "train_losses = []\n",
        "plt.figure(figsize=(10,5))\n",
        "plt.title(\"Training Loss\")\n",
        "plt.plot([item for item in loss], label=\"train\")\n",
        "plt.xlabel(\"iterations\")\n",
        "plt.ylabel(\"Loss\")\n",
        "plt.legend()\n",
        "plt.show()"
      ]
    },
    {
      "cell_type": "code",
      "execution_count": 22,
      "metadata": {
        "colab": {
          "base_uri": "https://localhost:8080/",
          "height": 536
        },
        "id": "v2RNndUnVhuh",
        "outputId": "ab6dd4c5-454e-409e-d7a5-e8f6cd5312a1"
      },
      "outputs": [
        {
          "output_type": "display_data",
          "data": {
            "text/plain": [
              "<Figure size 864x504 with 2 Axes>"
            ],
            "image/png": "[encoded data removed]"
          },
          "metadata": {
            "needs_background": "light"
          }
        }
      ],
      "source": [
        "from sklearn.metrics import confusion_matrix\n",
        "import seaborn as sn\n",
        "import pandas as pd\n",
        "\n",
        "y_pred = []\n",
        "y_true = []\n",
        "\n",
        "# iterate over test data\n",
        "for i, data in enumerate(test_dataloader):\n",
        "  image = data['image'].type(torch.FloatTensor)\n",
        "  image = image.permute(0, 3, 2, 1)\n",
        "  image = image.to(device)\n",
        "  target = data['target'].to(device)\n",
        "  output = classifier(image)\n",
        "\n",
        "  #output = (torch.max(torch.exp(output), 1)[1]).data.cpu().numpy()\n",
        "  #y_pred.extend(output) # Save Prediction\n",
        "  pred = nn.Softmax(dim=1)(output).argmax(1).data.cpu().numpy()\n",
        "  y_pred.extend(pred)\n",
        "  labels = target.data.cpu().numpy()\n",
        "  y_true.extend(labels) # Save Truth\n",
        "\n",
        "# constant for classes\n",
        "classes = ('Samsung GalaxyS3Mini', 'Apple iPhone4s', 'Huawei P9', 'LG D290', 'Apple iPhone5c', \n",
        "      'Lenovo P70A', 'Sony XperiaZ1Compact', 'Microsoft Lumia640LTE', 'Wiko Ridge4G', 'Xiaomi RedmiNote3')\n",
        "\n",
        "# Build confusion matrix\n",
        "cf_matrix = confusion_matrix(y_true, y_pred, normalize='true' )\n",
        "df_cm = pd.DataFrame(cf_matrix, index = [i for i in classes],\n",
        "                     columns = [i for i in classes])\n",
        "plt.figure(figsize = (12,7))\n",
        "sn.heatmap(df_cm, annot=True, cmap=\"BuPu\")\n",
        "plt.savefig('output.png')"
      ]
    },
    {
      "cell_type": "code",
      "execution_count": 23,
      "metadata": {
        "id": "yZOzTh5Qt0IX"
      },
      "outputs": [],
      "source": [
        "def test(model, test_dataloader):\n",
        "    model.eval()\n",
        "    correct = 0\n",
        "    for i, data in enumerate(test_dataloader):\n",
        "      image = data['image'].type(torch.FloatTensor)\n",
        "      image = image.permute(0, 3, 2, 1)\n",
        "      image = image.to(device)\n",
        "      target = data['target'].to(device)\n",
        "      output = model(image)\n",
        "      pred = nn.Softmax(dim=1)(output)\n",
        "      #print(pred.argmax(1))\n",
        "      correct += (pred.argmax(1) == target).type(torch.float).sum().item()\n",
        "\n",
        "    \n",
        "    print(f'accurency = {correct}/{len(test_dataloader)*4} = {correct/(len(test_dataloader)*4)}')"
      ]
    },
    {
      "cell_type": "code",
      "execution_count": 24,
      "metadata": {
        "colab": {
          "base_uri": "https://localhost:8080/"
        },
        "id": "9E2fvLzbuACL",
        "outputId": "b6a9b4ae-ad5e-4148-ef69-09a2c1cf70f8"
      },
      "outputs": [
        {
          "output_type": "stream",
          "name": "stdout",
          "text": [
            "accurency = 451.0/488 = 0.9241803278688525\n"
          ]
        }
      ],
      "source": [
        "test(classifier, test_dataloader)"
      ]
    }
  ],
  "metadata": {
    "accelerator": "GPU",
    "colab": {
      "collapsed_sections": [],
      "provenance": []
    },
    "gpuClass": "standard",
    "kernelspec": {
      "display_name": "Python 3",
      "language": "python",
      "name": "python3"
    },
    "language_info": {
      "codemirror_mode": {
        "name": "ipython",
        "version": 3
      },
      "file_extension": ".py",
      "mimetype": "text/x-python",
      "name": "python",
      "nbconvert_exporter": "python",
      "pygments_lexer": "ipython3",
      "version": "3.7.0"
    }
  },
  "nbformat": 4,
  "nbformat_minor": 0
}